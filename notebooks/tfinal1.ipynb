{
 "cells": [
  {
   "cell_type": "markdown",
   "metadata": {},
   "source": [
    "Value Iteration Algorithm\n",
    "The algorithm tries to find the value V(st) of being in any given state. It uses the Bellman equation."
   ]
  },
  {
   "cell_type": "code",
   "execution_count": null,
   "metadata": {},
   "outputs": [],
   "source": []
  },
  {
   "cell_type": "markdown",
   "metadata": {},
   "source": [
    "Don’t worry, it really isn’t that complicated. All this means is that the value of being in a state is equal to the maximum of the immediate reward of that state (R) plus the discounted rewards of every adjacent state (St+1), considering the transition probabilities. Therefore, we only look one step ahead in this algorithm."
   ]
  },
  {
   "cell_type": "code",
   "execution_count": 10,
   "metadata": {},
   "outputs": [],
   "source": [
    "import numpy as np\n",
    "\n",
    "'''==================================================\n",
    "Initial set up\n",
    "=================================================='''\n",
    "\n",
    "#Hyperparameters\n",
    "SMALL_ENOUGH = 0.005\n",
    "GAMMA = 0.9         \n",
    "NOISE = 0.1  \n",
    "\n",
    "#Define all states\n",
    "all_states=[]\n",
    "for i in range(3):\n",
    "    for j in range(3):\n",
    "            all_states.append((i,j))\n",
    "\n",
    "#Define rewards for all states\n",
    "rewards = {}\n",
    "for i in all_states:\n",
    "    if i == (1,2):\n",
    "        rewards[i] = -2\n",
    "    elif i == (2,0):\n",
    "        rewards[i] = -1\n",
    "    elif i == (0,1):\n",
    "        rewards[i] = -1\n",
    "    elif i == (2,2):\n",
    "        rewards[i] = 2\n",
    "    else:\n",
    "        rewards[i] = 0\n",
    "\n",
    "#Dictionnary of possible actions. We have two \"end\" states (1,2 and 2,2)\n",
    "# actions = {\n",
    "#     (0,0):('D', 'R'), \n",
    "#     (0,1):('D', 'R', 'L'),    \n",
    "#     (0,2):('D', 'L', 'R'),\n",
    "#     (0,3):('D', 'L'),\n",
    "#     (1,0):('D', 'U', 'R'),\n",
    "#     (1,1):('D', 'R', 'L', 'U'),\n",
    "#     (1,3):('D', 'L', 'U'),\n",
    "#     (2,0):('U', 'R'),\n",
    "#     (2,1):('U', 'L', 'R'),\n",
    "#     }\n",
    "\n",
    "actions = {\n",
    "    (0,0):('D', 'R'), \n",
    "    (0,1):('D', 'R', 'L'),    \n",
    "    (0,2):('D', 'L'),\n",
    "    \n",
    "    (1,0):('D', 'U', 'R'),\n",
    "    (1,1):('D', 'R', 'L', 'U'),\n",
    "    (1,2):('D', 'L', 'U'),\n",
    "\n",
    "    (2,0):('U', 'R'),\n",
    "    (2,1):('U', 'L', 'R')\n",
    "    }\n",
    "\n",
    "#Define an initial policy\n",
    "policy={}\n",
    "for s in actions.keys():\n",
    "    policy[s] = np.random.choice(actions[s])\n",
    "\n",
    "#Define initial value function \n",
    "V={}\n",
    "for s in all_states:\n",
    "    if s in actions.keys():\n",
    "        V[s] = 0\n",
    "    if s == (1,2):\n",
    "        V[s]=-2\n",
    "    if s == (0,1):\n",
    "        V[s]=-1\n",
    "    if s == (2,0):\n",
    "        V[s]=-1\n",
    "    if s == (2,2):\n",
    "        V[s]=2\n",
    "\n",
    "'''==================================================\n",
    "Value Iteration\n",
    "=================================================='''\n",
    "\n",
    "iteration = 0\n",
    "while True:\n",
    "    biggest_change = 0\n",
    "    for s in all_states:            \n",
    "        if s in policy:\n",
    "            \n",
    "            old_v = V[s]\n",
    "            new_v = 0\n",
    "            \n",
    "            for a in actions[s]:\n",
    "                if a == 'U':\n",
    "                    nxt = [s[0]-1, s[1]]\n",
    "                if a == 'D':\n",
    "                    nxt = [s[0]+1, s[1]]\n",
    "                if a == 'L':\n",
    "                    nxt = [s[0], s[1]-1]\n",
    "                if a == 'R':\n",
    "                    nxt = [s[0], s[1]+1]\n",
    "\n",
    "                #Choose a new random action to do (transition probability)\n",
    "                random_1=np.random.choice([i for i in actions[s] if i != a])\n",
    "                if random_1 == 'U':\n",
    "                    act = [s[0]-1, s[1]]\n",
    "                if random_1 == 'D':\n",
    "                    act = [s[0]+1, s[1]]\n",
    "                if random_1 == 'L':\n",
    "                    act = [s[0], s[1]-1]\n",
    "                if random_1 == 'R':\n",
    "                    act = [s[0], s[1]+1]\n",
    "\n",
    "                #Calculate the value\n",
    "                nxt = tuple(nxt)\n",
    "                act = tuple(act)\n",
    "                v = rewards[s] + (GAMMA * ((1-NOISE)* V[nxt] + (NOISE * V[act]))) \n",
    "                if v > new_v: #Is this the best action so far? If so, keep it\n",
    "                    new_v = v\n",
    "                    policy[s] = a\n",
    "\n",
    "       #Save the best of all actions for the state                                 \n",
    "            V[s] = new_v\n",
    "            biggest_change = max(biggest_change, np.abs(old_v - V[s]))\n",
    "         \n",
    "   #See if the loop should stop now         \n",
    "    if biggest_change < SMALL_ENOUGH:\n",
    "        break\n",
    "    iteration += 1"
   ]
  },
  {
   "cell_type": "code",
   "execution_count": 11,
   "metadata": {},
   "outputs": [
    {
     "data": {
      "text/plain": [
       "{(0, 0): 1.0530775298709838,\n",
       " (0, 1): 0.19769541358502618,\n",
       " (0, 2): 0.16013328500387122,\n",
       " (1, 0): 1.2780520450244488,\n",
       " (1, 1): 1.460819440112446,\n",
       " (1, 2): 0,\n",
       " (2, 0): 0.4608194401124459,\n",
       " (2, 1): 1.6614737496101202,\n",
       " (2, 2): 2}"
      ]
     },
     "execution_count": 11,
     "metadata": {},
     "output_type": "execute_result"
    }
   ],
   "source": [
    "V"
   ]
  },
  {
   "cell_type": "code",
   "execution_count": 12,
   "metadata": {},
   "outputs": [
    {
     "data": {
      "text/plain": [
       "17643"
      ]
     },
     "execution_count": 12,
     "metadata": {},
     "output_type": "execute_result"
    }
   ],
   "source": [
    "iteration"
   ]
  },
  {
   "cell_type": "code",
   "execution_count": null,
   "metadata": {},
   "outputs": [],
   "source": [
    "{(0, 0): 1.2536894183314504, (0, 1): 1.3690280139593956, (0, 2): 1.1742475779327164,\n",
    " (1, 0): 1.3957732958995168, (1, 1): 1.5484701582242064, (1, 2): 0.7256822820139446,\n",
    " (2, 0): 1.5508772335988175, (2, 1): 1.7595789510238937, (2, 2): 2}"
   ]
  },
  {
   "cell_type": "code",
   "execution_count": null,
   "metadata": {},
   "outputs": [],
   "source": [
    "{(0, 0): 1.0530775298709838, (0, 1): 0.19769541358502618, (0, 2): 0.16013328500387122,\n",
    " (1, 0): 1.2780520450244488, (1, 1): 1.460819440112446, (1, 2): 0,\n",
    " (2, 0): 0.4608194401124459, (2, 1): 1.6614737496101202, (2, 2): 2}"
   ]
  }
 ],
 "metadata": {
  "kernelspec": {
   "display_name": "Python 3",
   "language": "python",
   "name": "python3"
  },
  "language_info": {
   "codemirror_mode": {
    "name": "ipython",
    "version": 3
   },
   "file_extension": ".py",
   "mimetype": "text/x-python",
   "name": "python",
   "nbconvert_exporter": "python",
   "pygments_lexer": "ipython3",
   "version": "3.8.3"
  }
 },
 "nbformat": 4,
 "nbformat_minor": 4
}
